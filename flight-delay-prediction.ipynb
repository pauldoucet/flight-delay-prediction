{
 "cells": [
  {
   "cell_type": "markdown",
   "metadata": {},
   "source": [
    "# Flight delay prediction\n",
    "Flight delays not only irritate passengers but also have a significant cost for both companies and air-traverlers.\n",
    "According to [airlines.org](https://www.airlines.org/dataset/u-s-passenger-carrier-delay-costs/#:~:text=Assuming%20%2447%20per%20hour*%20as,2018%20to%20be%20%2428%20billion.) assuming $\\$$47 per hour to be the average value of a passenger's time, flight delays have cost air travelers billions of dollars.\n",
    "The FAA even estimated that the annual cost of flight delays would be around $28 billion!\n",
    "\n",
    "In this mini-poject we aim to get statistical insight on what is most likely to cause flight delays, we will also use a linear regression model with the MLlib Spark library in order to estimate the arrival delay knowing the delays that occured before takeoff.\n",
    "Finally we will upload it to a powerful cloud cluster. As a matter of fact, we will leverage the computational power provided by the Amazon AWS Elastic Map Reduce service in order to train it faster."
   ]
  },
  {
   "cell_type": "code",
   "execution_count": 3,
   "metadata": {},
   "outputs": [],
   "source": [
    "import pandas as pd\n",
    "import matplotlib.pyplot as plt\n",
    "import seaborn as sb\n",
    "import numpy as np\n",
    "import sqlite3"
   ]
  },
  {
   "cell_type": "code",
   "execution_count": 4,
   "metadata": {},
   "outputs": [
    {
     "data": {
      "application/javascript": [
       "var rate = 0;\n",
       "// apply setting to  all current CodeMirror instances\n",
       "IPython.notebook.get_cells().map(\n",
       "    function(c) {  return c.code_mirror.options.cursorBlinkRate=rate;  }\n",
       ");\n",
       "\n",
       "// make sure new CodeMirror instance also use this setting\n",
       "CodeMirror.defaults.cursorBlinkRate=rate;\n"
      ],
      "text/plain": [
       "<IPython.core.display.Javascript object>"
      ]
     },
     "metadata": {},
     "output_type": "display_data"
    }
   ],
   "source": [
    "%%javascript\n",
    "var rate = 0;\n",
    "// apply setting to  all current CodeMirror instances\n",
    "IPython.notebook.get_cells().map(\n",
    "    function(c) {  return c.code_mirror.options.cursorBlinkRate=rate;  }\n",
    ");\n",
    "\n",
    "// make sure new CodeMirror instance also use this setting\n",
    "CodeMirror.defaults.cursorBlinkRate=rate;"
   ]
  },
  {
   "cell_type": "markdown",
   "metadata": {},
   "source": [
    "# 1 - Data loading and cleaning\n",
    "#### Data loading\n",
    "We use the pandas `read_csv` to load our data in a pandas dataframe. We drop the `Unnamed: 27` column which results from a parsing error."
   ]
  },
  {
   "cell_type": "code",
   "execution_count": 5,
   "metadata": {},
   "outputs": [
    {
     "data": {
      "text/html": [
       "<div>\n",
       "<style scoped>\n",
       "    .dataframe tbody tr th:only-of-type {\n",
       "        vertical-align: middle;\n",
       "    }\n",
       "\n",
       "    .dataframe tbody tr th {\n",
       "        vertical-align: top;\n",
       "    }\n",
       "\n",
       "    .dataframe thead th {\n",
       "        text-align: right;\n",
       "    }\n",
       "</style>\n",
       "<table border=\"1\" class=\"dataframe\">\n",
       "  <thead>\n",
       "    <tr style=\"text-align: right;\">\n",
       "      <th></th>\n",
       "      <th>FL_DATE</th>\n",
       "      <th>OP_CARRIER</th>\n",
       "      <th>OP_CARRIER_FL_NUM</th>\n",
       "      <th>ORIGIN</th>\n",
       "      <th>DEST</th>\n",
       "      <th>CRS_DEP_TIME</th>\n",
       "      <th>DEP_TIME</th>\n",
       "      <th>DEP_DELAY</th>\n",
       "      <th>TAXI_OUT</th>\n",
       "      <th>WHEELS_OFF</th>\n",
       "      <th>...</th>\n",
       "      <th>DIVERTED</th>\n",
       "      <th>CRS_ELAPSED_TIME</th>\n",
       "      <th>ACTUAL_ELAPSED_TIME</th>\n",
       "      <th>AIR_TIME</th>\n",
       "      <th>DISTANCE</th>\n",
       "      <th>CARRIER_DELAY</th>\n",
       "      <th>WEATHER_DELAY</th>\n",
       "      <th>NAS_DELAY</th>\n",
       "      <th>SECURITY_DELAY</th>\n",
       "      <th>LATE_AIRCRAFT_DELAY</th>\n",
       "    </tr>\n",
       "  </thead>\n",
       "  <tbody>\n",
       "    <tr>\n",
       "      <th>0</th>\n",
       "      <td>2009-01-01</td>\n",
       "      <td>XE</td>\n",
       "      <td>1204</td>\n",
       "      <td>DCA</td>\n",
       "      <td>EWR</td>\n",
       "      <td>1100</td>\n",
       "      <td>1058.0</td>\n",
       "      <td>-2.0</td>\n",
       "      <td>18.0</td>\n",
       "      <td>1116.0</td>\n",
       "      <td>...</td>\n",
       "      <td>0.0</td>\n",
       "      <td>62.0</td>\n",
       "      <td>68.0</td>\n",
       "      <td>42.0</td>\n",
       "      <td>199.0</td>\n",
       "      <td>NaN</td>\n",
       "      <td>NaN</td>\n",
       "      <td>NaN</td>\n",
       "      <td>NaN</td>\n",
       "      <td>NaN</td>\n",
       "    </tr>\n",
       "    <tr>\n",
       "      <th>1</th>\n",
       "      <td>2009-01-01</td>\n",
       "      <td>XE</td>\n",
       "      <td>1206</td>\n",
       "      <td>EWR</td>\n",
       "      <td>IAD</td>\n",
       "      <td>1510</td>\n",
       "      <td>1509.0</td>\n",
       "      <td>-1.0</td>\n",
       "      <td>28.0</td>\n",
       "      <td>1537.0</td>\n",
       "      <td>...</td>\n",
       "      <td>0.0</td>\n",
       "      <td>82.0</td>\n",
       "      <td>75.0</td>\n",
       "      <td>43.0</td>\n",
       "      <td>213.0</td>\n",
       "      <td>NaN</td>\n",
       "      <td>NaN</td>\n",
       "      <td>NaN</td>\n",
       "      <td>NaN</td>\n",
       "      <td>NaN</td>\n",
       "    </tr>\n",
       "    <tr>\n",
       "      <th>2</th>\n",
       "      <td>2009-01-01</td>\n",
       "      <td>XE</td>\n",
       "      <td>1207</td>\n",
       "      <td>EWR</td>\n",
       "      <td>DCA</td>\n",
       "      <td>1100</td>\n",
       "      <td>1059.0</td>\n",
       "      <td>-1.0</td>\n",
       "      <td>20.0</td>\n",
       "      <td>1119.0</td>\n",
       "      <td>...</td>\n",
       "      <td>0.0</td>\n",
       "      <td>70.0</td>\n",
       "      <td>62.0</td>\n",
       "      <td>36.0</td>\n",
       "      <td>199.0</td>\n",
       "      <td>NaN</td>\n",
       "      <td>NaN</td>\n",
       "      <td>NaN</td>\n",
       "      <td>NaN</td>\n",
       "      <td>NaN</td>\n",
       "    </tr>\n",
       "    <tr>\n",
       "      <th>3</th>\n",
       "      <td>2009-01-01</td>\n",
       "      <td>XE</td>\n",
       "      <td>1208</td>\n",
       "      <td>DCA</td>\n",
       "      <td>EWR</td>\n",
       "      <td>1240</td>\n",
       "      <td>1249.0</td>\n",
       "      <td>9.0</td>\n",
       "      <td>10.0</td>\n",
       "      <td>1259.0</td>\n",
       "      <td>...</td>\n",
       "      <td>0.0</td>\n",
       "      <td>77.0</td>\n",
       "      <td>56.0</td>\n",
       "      <td>37.0</td>\n",
       "      <td>199.0</td>\n",
       "      <td>NaN</td>\n",
       "      <td>NaN</td>\n",
       "      <td>NaN</td>\n",
       "      <td>NaN</td>\n",
       "      <td>NaN</td>\n",
       "    </tr>\n",
       "    <tr>\n",
       "      <th>4</th>\n",
       "      <td>2009-01-01</td>\n",
       "      <td>XE</td>\n",
       "      <td>1209</td>\n",
       "      <td>IAD</td>\n",
       "      <td>EWR</td>\n",
       "      <td>1715</td>\n",
       "      <td>1705.0</td>\n",
       "      <td>-10.0</td>\n",
       "      <td>24.0</td>\n",
       "      <td>1729.0</td>\n",
       "      <td>...</td>\n",
       "      <td>0.0</td>\n",
       "      <td>105.0</td>\n",
       "      <td>77.0</td>\n",
       "      <td>40.0</td>\n",
       "      <td>213.0</td>\n",
       "      <td>NaN</td>\n",
       "      <td>NaN</td>\n",
       "      <td>NaN</td>\n",
       "      <td>NaN</td>\n",
       "      <td>NaN</td>\n",
       "    </tr>\n",
       "  </tbody>\n",
       "</table>\n",
       "<p>5 rows × 27 columns</p>\n",
       "</div>"
      ],
      "text/plain": [
       "      FL_DATE OP_CARRIER  OP_CARRIER_FL_NUM ORIGIN DEST  CRS_DEP_TIME  \\\n",
       "0  2009-01-01         XE               1204    DCA  EWR          1100   \n",
       "1  2009-01-01         XE               1206    EWR  IAD          1510   \n",
       "2  2009-01-01         XE               1207    EWR  DCA          1100   \n",
       "3  2009-01-01         XE               1208    DCA  EWR          1240   \n",
       "4  2009-01-01         XE               1209    IAD  EWR          1715   \n",
       "\n",
       "   DEP_TIME  DEP_DELAY  TAXI_OUT  WHEELS_OFF  ...  DIVERTED  CRS_ELAPSED_TIME  \\\n",
       "0    1058.0       -2.0      18.0      1116.0  ...       0.0              62.0   \n",
       "1    1509.0       -1.0      28.0      1537.0  ...       0.0              82.0   \n",
       "2    1059.0       -1.0      20.0      1119.0  ...       0.0              70.0   \n",
       "3    1249.0        9.0      10.0      1259.0  ...       0.0              77.0   \n",
       "4    1705.0      -10.0      24.0      1729.0  ...       0.0             105.0   \n",
       "\n",
       "   ACTUAL_ELAPSED_TIME  AIR_TIME  DISTANCE  CARRIER_DELAY WEATHER_DELAY  \\\n",
       "0                 68.0      42.0     199.0            NaN           NaN   \n",
       "1                 75.0      43.0     213.0            NaN           NaN   \n",
       "2                 62.0      36.0     199.0            NaN           NaN   \n",
       "3                 56.0      37.0     199.0            NaN           NaN   \n",
       "4                 77.0      40.0     213.0            NaN           NaN   \n",
       "\n",
       "   NAS_DELAY  SECURITY_DELAY  LATE_AIRCRAFT_DELAY  \n",
       "0        NaN             NaN                  NaN  \n",
       "1        NaN             NaN                  NaN  \n",
       "2        NaN             NaN                  NaN  \n",
       "3        NaN             NaN                  NaN  \n",
       "4        NaN             NaN                  NaN  \n",
       "\n",
       "[5 rows x 27 columns]"
      ]
     },
     "execution_count": 5,
     "metadata": {},
     "output_type": "execute_result"
    }
   ],
   "source": [
    "df = pd.read_csv(\"datasets/2009.csv\")\n",
    "df = df.drop(\"Unnamed: 27\", axis = 1)\n",
    "df.head()"
   ]
  },
  {
   "cell_type": "markdown",
   "metadata": {},
   "source": [
    "#### Data interpretation\n",
    "We want to predict the value of the `ARRIVAL_DELAY` from each feature known before the takeoff.\n",
    "That is \n",
    "- `CRS_DEP_TIME`: The scheduled departure time\n",
    "- `DEP_TIME`: The actual departure time\n",
    "- `WHEELS_OFF`: time before takeoff\n",
    "- `DEP_DELAY`: departure delay\n",
    "- `TAXI_OUT`: time from taxi of origin gate to wheels off\n",
    "- `CRS_ARR_TIME`: scheduled arrival time\n",
    "- `CRS_ELAPSED_TIME`: scheduled elapsed time\n",
    "- `DISTANCE`: distance between airports in miles\n",
    "- `SECURITY_DELAY`: delay at security"
   ]
  },
  {
   "cell_type": "code",
   "execution_count": 8,
   "metadata": {},
   "outputs": [
    {
     "data": {
      "text/html": [
       "<div>\n",
       "<style scoped>\n",
       "    .dataframe tbody tr th:only-of-type {\n",
       "        vertical-align: middle;\n",
       "    }\n",
       "\n",
       "    .dataframe tbody tr th {\n",
       "        vertical-align: top;\n",
       "    }\n",
       "\n",
       "    .dataframe thead th {\n",
       "        text-align: right;\n",
       "    }\n",
       "</style>\n",
       "<table border=\"1\" class=\"dataframe\">\n",
       "  <thead>\n",
       "    <tr style=\"text-align: right;\">\n",
       "      <th></th>\n",
       "      <th>CRS_DEP_TIME</th>\n",
       "      <th>DEP_TIME</th>\n",
       "      <th>WHEELS_OFF</th>\n",
       "      <th>DEP_DELAY</th>\n",
       "      <th>TAXI_OUT</th>\n",
       "      <th>CRS_ARR_TIME</th>\n",
       "      <th>CRS_ELAPSED_TIME</th>\n",
       "      <th>DISTANCE</th>\n",
       "      <th>SECURITY_DELAY</th>\n",
       "      <th>ARR_DELAY</th>\n",
       "    </tr>\n",
       "  </thead>\n",
       "  <tbody>\n",
       "    <tr>\n",
       "      <th>0</th>\n",
       "      <td>1100</td>\n",
       "      <td>1058.0</td>\n",
       "      <td>1116.0</td>\n",
       "      <td>-2.0</td>\n",
       "      <td>18.0</td>\n",
       "      <td>1202</td>\n",
       "      <td>62.0</td>\n",
       "      <td>199.0</td>\n",
       "      <td>NaN</td>\n",
       "      <td>4.0</td>\n",
       "    </tr>\n",
       "    <tr>\n",
       "      <th>1</th>\n",
       "      <td>1510</td>\n",
       "      <td>1509.0</td>\n",
       "      <td>1537.0</td>\n",
       "      <td>-1.0</td>\n",
       "      <td>28.0</td>\n",
       "      <td>1632</td>\n",
       "      <td>82.0</td>\n",
       "      <td>213.0</td>\n",
       "      <td>NaN</td>\n",
       "      <td>-8.0</td>\n",
       "    </tr>\n",
       "    <tr>\n",
       "      <th>2</th>\n",
       "      <td>1100</td>\n",
       "      <td>1059.0</td>\n",
       "      <td>1119.0</td>\n",
       "      <td>-1.0</td>\n",
       "      <td>20.0</td>\n",
       "      <td>1210</td>\n",
       "      <td>70.0</td>\n",
       "      <td>199.0</td>\n",
       "      <td>NaN</td>\n",
       "      <td>-9.0</td>\n",
       "    </tr>\n",
       "    <tr>\n",
       "      <th>3</th>\n",
       "      <td>1240</td>\n",
       "      <td>1249.0</td>\n",
       "      <td>1259.0</td>\n",
       "      <td>9.0</td>\n",
       "      <td>10.0</td>\n",
       "      <td>1357</td>\n",
       "      <td>77.0</td>\n",
       "      <td>199.0</td>\n",
       "      <td>NaN</td>\n",
       "      <td>-12.0</td>\n",
       "    </tr>\n",
       "    <tr>\n",
       "      <th>4</th>\n",
       "      <td>1715</td>\n",
       "      <td>1705.0</td>\n",
       "      <td>1729.0</td>\n",
       "      <td>-10.0</td>\n",
       "      <td>24.0</td>\n",
       "      <td>1900</td>\n",
       "      <td>105.0</td>\n",
       "      <td>213.0</td>\n",
       "      <td>NaN</td>\n",
       "      <td>-38.0</td>\n",
       "    </tr>\n",
       "  </tbody>\n",
       "</table>\n",
       "</div>"
      ],
      "text/plain": [
       "   CRS_DEP_TIME  DEP_TIME  WHEELS_OFF  DEP_DELAY  TAXI_OUT  CRS_ARR_TIME  \\\n",
       "0          1100    1058.0      1116.0       -2.0      18.0          1202   \n",
       "1          1510    1509.0      1537.0       -1.0      28.0          1632   \n",
       "2          1100    1059.0      1119.0       -1.0      20.0          1210   \n",
       "3          1240    1249.0      1259.0        9.0      10.0          1357   \n",
       "4          1715    1705.0      1729.0      -10.0      24.0          1900   \n",
       "\n",
       "   CRS_ELAPSED_TIME  DISTANCE  SECURITY_DELAY  ARR_DELAY  \n",
       "0              62.0     199.0             NaN        4.0  \n",
       "1              82.0     213.0             NaN       -8.0  \n",
       "2              70.0     199.0             NaN       -9.0  \n",
       "3              77.0     199.0             NaN      -12.0  \n",
       "4             105.0     213.0             NaN      -38.0  "
      ]
     },
     "execution_count": 8,
     "metadata": {},
     "output_type": "execute_result"
    }
   ],
   "source": [
    "df_clean = df[[\"CRS_DEP_TIME\", \"DEP_TIME\", \"WHEELS_OFF\", \"DEP_DELAY\", \"TAXI_OUT\", \"CRS_ARR_TIME\",\n",
    "               \"CRS_ELAPSED_TIME\", \"DISTANCE\", \"SECURITY_DELAY\", \"ARR_DELAY\"]]\n",
    "\n",
    "df_clean.head()"
   ]
  },
  {
   "cell_type": "markdown",
   "metadata": {},
   "source": [
    "## Feature selection\n",
    "We initially have 27 input features, we would like to reduce this number in order to prevent overfitting and to improve our model training speed (essential in our case where the dataset has a size of a few GB).\n",
    "#### Correlation matrix\n",
    "In case of a big dataset like this one, it would be to computationaly expensive to perform Recursive Feature Selection, therefore we use the correlation matrix method to identify:\n",
    "- weak linear dependencies between features and the output column (`ARR_DELAY`): these variables have poor value for training in training our linear model. (low absolute correlation means low linear dependency)\n",
    "- strong linear dependencies between input features: these variable are redundant, therefore we delete them to prevent overfitting (i.e. to prevent our model to learn from statistical noise)."
   ]
  },
  {
   "cell_type": "code",
   "execution_count": 10,
   "metadata": {},
   "outputs": [],
   "source": [
    "corr = df.corr()"
   ]
  },
  {
   "cell_type": "code",
   "execution_count": 11,
   "metadata": {},
   "outputs": [],
   "source": [
    "def print_corr_matrix(corr):\n",
    "    \"\"\"\n",
    "        Pretty print the correlation matrix\n",
    "    \"\"\"\n",
    "    fig, ax = plt.subplots(figsize = (11, 9))\n",
    "\n",
    "    cmap = sb.diverging_palette(0, 230, 90, 60, as_cmap=True)\n",
    "    mask = np.triu(np.ones_like(corr, dtype=bool))[1:, :-1]\n",
    "    corr2 = corr.iloc[1:, :-1].copy()\n",
    "\n",
    "    sb.heatmap(corr2, mask = mask, vmin = -1, vmax = 1, cmap = cmap, annot = True, fmt = \".2f\", annot_kws={\"fontsize\":8})\n",
    "\n",
    "    plt.show()"
   ]
  },
  {
   "cell_type": "code",
   "execution_count": 12,
   "metadata": {},
   "outputs": [
    {
     "data": {
      "image/png": "[encoded data removed]",
      "text/plain": [
       "<Figure size 792x648 with 2 Axes>"
      ]
     },
     "metadata": {
      "needs_background": "light"
     },
     "output_type": "display_data"
    }
   ],
   "source": [
    "corr_clean = df_clean.corr()\n",
    "print_corr_matrix(corr_clean)"
   ]
  },
  {
   "cell_type": "markdown",
   "metadata": {},
   "source": [
    "#### Features selection\n",
    "We have a high correlation between these pairs of features \n",
    "- (`DEP_TIME`, `CRS_DEP_TIME`)\n",
    "- (`WHEELS_OFF`, `CRS_DEP_TIME`)\n",
    "- (`WHEELS_OFF`, `DEP_TIME`)\n",
    "- (`CRS_ARR_TIME`, `CRS_DEP_TIME`)\n",
    "- (`CRS_ARR_TIME`, `DEP_TIME`)\n",
    "- (`CRS_ARR_TIME`, `WHEELS_OFF`)\n",
    "- (`DISTANCE`, `CRS_ELAPSED_TIME`) "
   ]
  },
  {
   "cell_type": "markdown",
   "metadata": {},
   "source": [
    "Therefore we delete `CRS_DEP_TIME`, `WHEELS_OFF`, `DISTANCE`, `CRS_ARR_TIME`, which are redondant in order to reduce the chances of overfitting and to increase the model accuracy."
   ]
  },
  {
   "cell_type": "code",
   "execution_count": 13,
   "metadata": {},
   "outputs": [
    {
     "data": {
      "text/html": [
       "<div>\n",
       "<style scoped>\n",
       "    .dataframe tbody tr th:only-of-type {\n",
       "        vertical-align: middle;\n",
       "    }\n",
       "\n",
       "    .dataframe tbody tr th {\n",
       "        vertical-align: top;\n",
       "    }\n",
       "\n",
       "    .dataframe thead th {\n",
       "        text-align: right;\n",
       "    }\n",
       "</style>\n",
       "<table border=\"1\" class=\"dataframe\">\n",
       "  <thead>\n",
       "    <tr style=\"text-align: right;\">\n",
       "      <th></th>\n",
       "      <th>DEP_TIME</th>\n",
       "      <th>DEP_DELAY</th>\n",
       "      <th>TAXI_OUT</th>\n",
       "      <th>CRS_ELAPSED_TIME</th>\n",
       "      <th>SECURITY_DELAY</th>\n",
       "      <th>ARR_DELAY</th>\n",
       "    </tr>\n",
       "  </thead>\n",
       "  <tbody>\n",
       "    <tr>\n",
       "      <th>0</th>\n",
       "      <td>1058.0</td>\n",
       "      <td>-2.0</td>\n",
       "      <td>18.0</td>\n",
       "      <td>62.0</td>\n",
       "      <td>NaN</td>\n",
       "      <td>4.0</td>\n",
       "    </tr>\n",
       "    <tr>\n",
       "      <th>1</th>\n",
       "      <td>1509.0</td>\n",
       "      <td>-1.0</td>\n",
       "      <td>28.0</td>\n",
       "      <td>82.0</td>\n",
       "      <td>NaN</td>\n",
       "      <td>-8.0</td>\n",
       "    </tr>\n",
       "    <tr>\n",
       "      <th>2</th>\n",
       "      <td>1059.0</td>\n",
       "      <td>-1.0</td>\n",
       "      <td>20.0</td>\n",
       "      <td>70.0</td>\n",
       "      <td>NaN</td>\n",
       "      <td>-9.0</td>\n",
       "    </tr>\n",
       "    <tr>\n",
       "      <th>3</th>\n",
       "      <td>1249.0</td>\n",
       "      <td>9.0</td>\n",
       "      <td>10.0</td>\n",
       "      <td>77.0</td>\n",
       "      <td>NaN</td>\n",
       "      <td>-12.0</td>\n",
       "    </tr>\n",
       "    <tr>\n",
       "      <th>4</th>\n",
       "      <td>1705.0</td>\n",
       "      <td>-10.0</td>\n",
       "      <td>24.0</td>\n",
       "      <td>105.0</td>\n",
       "      <td>NaN</td>\n",
       "      <td>-38.0</td>\n",
       "    </tr>\n",
       "  </tbody>\n",
       "</table>\n",
       "</div>"
      ],
      "text/plain": [
       "   DEP_TIME  DEP_DELAY  TAXI_OUT  CRS_ELAPSED_TIME  SECURITY_DELAY  ARR_DELAY\n",
       "0    1058.0       -2.0      18.0              62.0             NaN        4.0\n",
       "1    1509.0       -1.0      28.0              82.0             NaN       -8.0\n",
       "2    1059.0       -1.0      20.0              70.0             NaN       -9.0\n",
       "3    1249.0        9.0      10.0              77.0             NaN      -12.0\n",
       "4    1705.0      -10.0      24.0             105.0             NaN      -38.0"
      ]
     },
     "execution_count": 13,
     "metadata": {},
     "output_type": "execute_result"
    }
   ],
   "source": [
    "df_clean2 = df_clean.drop([\"CRS_DEP_TIME\", \"WHEELS_OFF\", \"DISTANCE\", \"CRS_ARR_TIME\"], axis = 1)\n",
    "df_clean2.head()"
   ]
  },
  {
   "cell_type": "code",
   "execution_count": 14,
   "metadata": {},
   "outputs": [
    {
     "data": {
      "image/png": "[encoded data removed]",
      "text/plain": [
       "<Figure size 792x648 with 2 Axes>"
      ]
     },
     "metadata": {
      "needs_background": "light"
     },
     "output_type": "display_data"
    }
   ],
   "source": [
    "corr_clean2 = df_clean2.corr()\n",
    "print_corr_matrix(corr_clean2)"
   ]
  },
  {
   "cell_type": "markdown",
   "metadata": {},
   "source": [
    "#### Correlation Interpretation\n",
    "Now that we selected our subset of features, we can already see that there is a strong correlation between the feature we want to predict (i.e. `ARR_DELAY`) and `DEP_DELAY`, there is also a significant correlation with `TAXI_OUT`. Therefore `DEP_DELAY` and `TAXI_OUT` should both be good predictors for `ARR_DELAY`."
   ]
  },
  {
   "cell_type": "markdown",
   "metadata": {},
   "source": [
    "#### Prediction using linear regression\n",
    "Linear regression is good algorithm when features have high correlation (i.e. linear dependencies) with the output feature. Therefore we try to optimize a linear regression model with input features `DEP_DELAY` and `TAXI_OUT`."
   ]
  },
  {
   "cell_type": "markdown",
   "metadata": {},
   "source": [
    "# 2 - Model constrution and training\n",
    "Now that we selected the set of features to perform linear regression on, we create a spark Scala project.\n",
    "We first load the data in a Spark Dataframe before building the model.\n",
    "\\\n",
    "![](images/image1.PNG)\n",
    "\\\n",
    "![](images/image2.PNG)"
   ]
  },
  {
   "cell_type": "markdown",
   "metadata": {},
   "source": [
    "#### Model construction\n",
    "In our case we will use a simple linear regression model provided by the `LinearRegression` class of the MLlib library.\n",
    "\\\n",
    "![](images/image3.PNG)\n",
    "\n",
    "#### Model training\n",
    "We train our model using the `TrainValidationSplit` class, which will create a validation set to train the data on."
   ]
  },
  {
   "cell_type": "markdown",
   "metadata": {},
   "source": [
    "# 3 - Training our model in a cloud cluster (AWS Elastic Map Reduce, S3)\n",
    "We decide to use the Elastic Map Reduce AWS service in order to train our model in a powerful cloud cluster.\\\n",
    "In order to do that, we compile our scala program into a .jar file (using the `package` command in sbt).\n",
    "Then we create an S3 bucket and send both our .jar file containing the scala program and the dataset.\n",
    "After initializing the EMR cluster and logging with SSH, we transfer the .jar from S3 to EMR with \\\n",
    "`aws s3 cp s3://.......... .`.\n",
    "Finally we can launch our jar file with `spark-submit`"
   ]
  }
 ],
 "metadata": {
  "kernelspec": {
   "display_name": "Python 3",
   "language": "python",
   "name": "python3"
  },
  "language_info": {
   "codemirror_mode": {
    "name": "ipython",
    "version": 3
   },
   "file_extension": ".py",
   "mimetype": "text/x-python",
   "name": "python",
   "nbconvert_exporter": "python",
   "pygments_lexer": "ipython3",
   "version": "3.8.3"
  }
 },
 "nbformat": 4,
 "nbformat_minor": 4
}
